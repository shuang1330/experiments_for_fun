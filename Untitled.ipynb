{
 "cells": [
  {
   "cell_type": "code",
   "execution_count": 34,
   "metadata": {},
   "outputs": [
    {
     "name": "stdout",
     "output_type": "stream",
     "text": [
      "     mean radius  mean texture  mean perimeter  mean area  mean smoothness  \\\n",
      "373       20.640         17.35          134.80     1335.0          0.09446   \n",
      "289       11.370         18.89           72.17      396.0          0.08713   \n",
      "208       13.110         22.54           87.02      529.4          0.10020   \n",
      "504        9.268         12.87           61.49      248.7          0.16340   \n",
      "499       20.590         21.24          137.80     1320.0          0.10850   \n",
      "\n",
      "     mean compactness  mean concavity  mean concave points  mean symmetry  \\\n",
      "373           0.10760         0.15270              0.08941         0.1571   \n",
      "289           0.05008         0.02399              0.02173         0.2013   \n",
      "208           0.14830         0.08705              0.05102         0.1850   \n",
      "504           0.22390         0.09730              0.05252         0.2378   \n",
      "499           0.16440         0.21880              0.11210         0.1848   \n",
      "\n",
      "     mean fractal dimension  ...    worst texture  worst perimeter  \\\n",
      "373                 0.05478  ...            23.17           166.80   \n",
      "289                 0.05955  ...            26.14            79.29   \n",
      "208                 0.07310  ...            29.16            99.48   \n",
      "504                 0.09502  ...            16.38            69.05   \n",
      "499                 0.06222  ...            30.76           163.20   \n",
      "\n",
      "     worst area  worst smoothness  worst compactness  worst concavity  \\\n",
      "373      1946.0            0.1562            0.30550          0.41590   \n",
      "289       459.3            0.1118            0.09708          0.07529   \n",
      "208       639.3            0.1349            0.44020          0.31620   \n",
      "504       300.2            0.1902            0.34410          0.20990   \n",
      "499      1760.0            0.1464            0.35970          0.51790   \n",
      "\n",
      "     worst concave points  worst symmetry  worst fractal dimension  label  \n",
      "373               0.21120          0.2689                  0.07055      0  \n",
      "289               0.06203          0.3267                  0.06994      1  \n",
      "208               0.11260          0.4128                  0.10760      1  \n",
      "504               0.10250          0.3038                  0.12520      1  \n",
      "499               0.21130          0.2480                  0.08999      0  \n",
      "\n",
      "[5 rows x 31 columns]\n",
      "['mean radius' 'mean texture' 'mean perimeter' 'mean area'\n",
      " 'mean smoothness' 'mean compactness' 'mean concavity'\n",
      " 'mean concave points' 'mean symmetry' 'mean fractal dimension'\n",
      " 'radius error' 'texture error' 'perimeter error' 'area error'\n",
      " 'smoothness error' 'compactness error' 'concavity error'\n",
      " 'concave points error' 'symmetry error' 'fractal dimension error'\n",
      " 'worst radius' 'worst texture' 'worst perimeter' 'worst area'\n",
      " 'worst smoothness' 'worst compactness' 'worst concavity'\n",
      " 'worst concave points' 'worst symmetry' 'worst fractal dimension']\n",
      "test1, shape:  (55, 32)\n",
      "0    50\n",
      "1     5\n",
      "Name: label, dtype: int64\n",
      "test2, shape:  (88, 32)\n",
      "1    83\n",
      "0     5\n",
      "Name: label, dtype: int64\n"
     ]
    },
    {
     "name": "stderr",
     "output_type": "stream",
     "text": [
      "C:\\Users\\shuan\\Anaconda3\\lib\\site-packages\\xgboost\\core.py:587: FutureWarning: Series.base is deprecated and will be removed in a future version\n",
      "  if getattr(data, 'base', None) is not None and \\\n",
      "C:\\Users\\shuan\\Anaconda3\\lib\\site-packages\\xgboost\\core.py:588: FutureWarning: Series.base is deprecated and will be removed in a future version\n",
      "  data.base is not None and isinstance(data, np.ndarray) \\\n"
     ]
    }
   ],
   "source": [
    "from sklearn.datasets import load_breast_cancer\n",
    "import pandas as pd\n",
    "import xgboost\n",
    "from sklearn.model_selection import train_test_split\n",
    "data = load_breast_cancer()\n",
    "cancer = pd.DataFrame(data=data.data, columns=data.feature_names)\n",
    "cancer['label'] = data.target\n",
    "train_cancer, test_cancer = train_test_split(cancer, random_state=5)\n",
    "print(train_cancer.head())\n",
    "print(data.feature_names)\n",
    "\n",
    "model = xgboost.train({\"learning_rate\": 0.01}, xgboost.DMatrix(train_cancer[data.feature_names], \n",
    "                                                               label=train_cancer['label']), 100)\n",
    "# raise NotImplementedError\n",
    "cancer['predictions'] = model.predict(xgboost.DMatrix(cancer[data.feature_names]))\n",
    "_, test_cancer = train_test_split(cancer, random_state=5)\n",
    "cancer_no = test_cancer[test_cancer['label']==0]\n",
    "cancer_yes = test_cancer[test_cancer['label']==1]\n",
    "no1 = cancer_no.iloc[:5, :]\n",
    "no2 = cancer_no.iloc[5:, :]\n",
    "yes1 = cancer_yes.iloc[:5, :]\n",
    "yes2 = cancer_yes.iloc[5:, :]\n",
    "test1 = pd.concat([yes1, no2], axis=0)\n",
    "test2 = pd.concat([yes2, no1], axis=0)\n",
    "print(\"test1, shape: \", test1.shape)\n",
    "print(test1['label'].value_counts())\n",
    "print(\"test2, shape: \", test2.shape)\n",
    "print(test2['label'].value_counts())"
   ]
  },
  {
   "cell_type": "code",
   "execution_count": 39,
   "metadata": {},
   "outputs": [
    {
     "name": "stdout",
     "output_type": "stream",
     "text": [
      "AUC for subset1: 0.99\n",
      "AUC for subset2: 0.92\n",
      "AUC for all test data: 1.0\n"
     ]
    },
    {
     "data": {
      "image/png": "[encoded data removed]",
      "text/plain": [
       "<Figure size 432x288 with 1 Axes>"
      ]
     },
     "metadata": {
      "needs_background": "light"
     },
     "output_type": "display_data"
    }
   ],
   "source": [
    "from sklearn.metrics import roc_auc_score\n",
    "import numpy as np\n",
    "auc_subset1 = roc_auc_score(test1['label'], test1['predictions'])\n",
    "auc_subset2 = roc_auc_score(test2['label'], test2['predictions'])\n",
    "auc_overall = roc_auc_score(cancer['label'], cancer['predictions'])\n",
    "print(\"AUC for subset1:\", round(auc_subset1, 2))\n",
    "print(\"AUC for subset2:\", round(auc_subset2, 2))\n",
    "print(\"AUC for all test data:\", round(auc_overall, 2))\n",
    "import matplotlib.pyplot as plt\n",
    "plt.bar(np.arange(2), [auc_subset1, auc_subset2], color='orange', alpha=0.8)\n",
    "plt.plot([-0.5, 1.5], [auc_overall, auc_overall], linestyle='--', lw=2, color='darkgray', label='Chance', alpha=.8)\n",
    "plt.xticks(np.arange(2), ['Subset1', 'Subset2'])\n",
    "plt.show()"
   ]
  },
  {
   "cell_type": "code",
   "execution_count": null,
   "metadata": {},
   "outputs": [],
   "source": []
  }
 ],
 "metadata": {
  "kernelspec": {
   "display_name": "Python 3",
   "language": "python",
   "name": "python3"
  },
  "language_info": {
   "codemirror_mode": {
    "name": "ipython",
    "version": 3
   },
   "file_extension": ".py",
   "mimetype": "text/x-python",
   "name": "python",
   "nbconvert_exporter": "python",
   "pygments_lexer": "ipython3",
   "version": "3.7.1"
  }
 },
 "nbformat": 4,
 "nbformat_minor": 2
}
